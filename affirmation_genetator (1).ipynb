{
 "cells": [
  {
   "cell_type": "code",
   "execution_count": 1,
   "metadata": {
    "colab": {
     "base_uri": "https://localhost:8080/"
    },
    "id": "dD9PckzN61lU",
    "outputId": "a4dd3a65-f2cd-4ed3-f2cb-f9b3df0b12ef"
   },
   "outputs": [
    {
     "name": "stdout",
     "output_type": "stream",
     "text": [
      "Requirement already satisfied: schedule in d:\\ai\\anaconda\\lib\\site-packages (1.2.2)\n"
     ]
    }
   ],
   "source": [
    "!pip install schedule\n"
   ]
  },
  {
   "cell_type": "code",
   "execution_count": 2,
   "metadata": {
    "id": "cAjDWcGtk0UC"
   },
   "outputs": [],
   "source": [
    "import pandas as pd\n",
    "import spacy\n",
    "import random\n",
    "import os"
   ]
  },
  {
   "cell_type": "code",
   "execution_count": 3,
   "metadata": {
    "id": "_O7tkYtTuw6W"
   },
   "outputs": [],
   "source": [
    "from openpyxl import Workbook, load_workbook\n",
    "from sklearn.feature_extraction.text import TfidfVectorizer\n",
    "from sklearn.model_selection import train_test_split\n",
    "from sklearn.ensemble import RandomForestClassifier\n",
    "import schedule\n",
    "import time\n",
    "import smtplib\n",
    "from email.mime.text import MIMEText\n",
    "from sklearn.metrics import classification_report, confusion_matrix, accuracy_score"
   ]
  },
  {
   "cell_type": "code",
   "execution_count": 4,
   "metadata": {
    "id": "btWnU9yRoWoM"
   },
   "outputs": [],
   "source": [
    "data = pd.read_csv('reduced_emotion_dataset.csv')  # Mood Dataset\n",
    "affirmations = pd.read_csv('affirmation new.csv')  # Affirmation Dataset\n",
    "\n",
    "# Step 3: Preprocess Text Data with spaCy\n",
    "nlp = spacy.load('en_core_web_sm')\n"
   ]
  },
  {
   "cell_type": "code",
   "execution_count": null,
   "metadata": {
    "id": "dFGhBVh6uxs9"
   },
   "outputs": [],
   "source": [
    "def preprocess_text_spacy(text):\n",
    "    # Convert text to lowercase and process with spaCy\n",
    "    doc = nlp(text.lower())\n",
    "    # Remove punctuation and stopwords, and tokenize\n",
    "    tokens = [token.text for token in doc if not token.is_stop and not token.is_punct]\n",
    "    return ' '.join(tokens)\n",
    "\n",
    "data['Cleaned_Text'] = data['Text'].apply(preprocess_text_spacy)"
   ]
  },
  {
   "cell_type": "code",
   "execution_count": null,
   "metadata": {
    "id": "Dg9YNA806bHc"
   },
   "outputs": [],
   "source": [
    "# Step 4: Feature Extraction\n",
    "vectorizer = TfidfVectorizer(max_features=5000)  # Limit to 5000 features\n",
    "X = vectorizer.fit_transform(data['Cleaned_Text']).toarray()\n",
    "y = data['Mood']\n",
    "\n",
    "\n"
   ]
  },
  {
   "cell_type": "code",
   "execution_count": null,
   "metadata": {
    "colab": {
     "base_uri": "https://localhost:8080/"
    },
    "id": "LirJYS1FuUuO",
    "outputId": "cbec607f-5355-48e0-e435-a8405c411703"
   },
   "outputs": [],
   "source": [
    "print(data['Mood'].value_counts())\n"
   ]
  },
  {
   "cell_type": "code",
   "execution_count": null,
   "metadata": {
    "id": "tOtG2Lju6fxl"
   },
   "outputs": [],
   "source": [
    "# Step 5: Train-Test Split\n",
    "X_train, X_test, y_train, y_test = train_test_split(X, y, test_size=0.2, random_state=42)"
   ]
  },
  {
   "cell_type": "code",
   "execution_count": null,
   "metadata": {
    "colab": {
     "base_uri": "https://localhost:8080/",
     "height": 80
    },
    "id": "Rlit7S696nbk",
    "outputId": "5c561462-645b-4253-8aea-56f9160ec104"
   },
   "outputs": [],
   "source": [
    "\n",
    "# Step 6: Train a Classifier\n",
    "model = RandomForestClassifier(n_estimators=100, random_state=42)\n",
    "model.fit(X_train, y_train)"
   ]
  },
  {
   "cell_type": "code",
   "execution_count": null,
   "metadata": {
    "colab": {
     "base_uri": "https://localhost:8080/"
    },
    "id": "Kima3Mgk-0G1",
    "outputId": "6eedad1d-f0d0-43cf-db63-9512067f310a"
   },
   "outputs": [],
   "source": [
    "# Step 7: Evaluate the Model\n",
    "y_pred = model.predict(X_test)\n",
    "y_test = y_test.astype(str)\n",
    "y_pred = y_pred.astype(str)\n",
    "print(\"Confusion Matrix:\\n\", confusion_matrix(y_test, y_pred))\n",
    "print(\"Classification Report:\\n\", classification_report(y_test, y_pred))\n",
    "print(\"Accuracy Score:\", (accuracy_score(y_test, y_pred))*100, \"%\")"
   ]
  },
  {
   "cell_type": "code",
   "execution_count": null,
   "metadata": {
    "id": "VfF311X-3Khe"
   },
   "outputs": [],
   "source": [
    "from sklearn.tree import DecisionTreeClassifier\n"
   ]
  },
  {
   "cell_type": "code",
   "execution_count": null,
   "metadata": {
    "id": "Lb1MelzC3Utg"
   },
   "outputs": [],
   "source": [
    "# train model with DecisionTreeClassifier\n",
    "df_model = DecisionTreeClassifier(random_state=42)\n",
    "df_model.fit(X_train, y_train)\n"
   ]
  },
  {
   "cell_type": "code",
   "execution_count": null,
   "metadata": {
    "id": "6uT_qKvx82cj"
   },
   "outputs": [],
   "source": [
    "dt_pred  = df_model.predict(X_test)\n",
    "y_test = y_test.astype(str)\n",
    "dt_pred = dt_pred.astype(str)\n",
    "print(\"Confusion Matrix:\\n\", confusion_matrix(y_test, dt_pred))\n",
    "print(\"Classification Report:\\n\", classification_report(y_test, dt_pred))\n",
    "print(\"Accuracy Score:\", (accuracy_score(y_test, dt_pred))*100, \"%\")"
   ]
  },
  {
   "cell_type": "code",
   "execution_count": null,
   "metadata": {
    "id": "reiHHj39AgfI"
   },
   "outputs": [],
   "source": [
    "# Step 8: Analyze the Mood from User Input\n",
    "def analyze_mood(user_input):\n",
    "    cleaned_input = preprocess_text_spacy(user_input)\n",
    "    input_vector = vectorizer.transform([cleaned_input]).toarray()\n",
    "    mood_probabilities = model.predict_proba(input_vector)[0]\n",
    "    mood_classes = model.classes_\n",
    "    mood_analysis = {mood_classes[i]: mood_probabilities[i] for i in range(len(mood_classes))}\n",
    "    return mood_analysis"
   ]
  },
  {
   "cell_type": "code",
   "execution_count": null,
   "metadata": {
    "id": "jHGlQ-RaArmC"
   },
   "outputs": [],
   "source": [
    "# Step 9: Generate Affirmations\n",
    "def generate_affirmation(mood_analysis):\n",
    "    predicted_mood = max(mood_analysis, key=mood_analysis.get)\n",
    "    filtered_affirmations = affirmations[affirmations['Mood'] == predicted_mood]['Affirmation'].tolist()\n",
    "    return random.choice(filtered_affirmations)"
   ]
  },
  {
   "cell_type": "code",
   "execution_count": null,
   "metadata": {
    "id": "_fadQ_OTAwtV"
   },
   "outputs": [],
   "source": [
    "# Step 10: Save User Email and Affirmation\n",
    "def save_email_and_affirmation(email, affirmation):\n",
    "    file_path = 'user_affirmations.xlsx'\n",
    "\n",
    "    # Create a new workbook if the file doesn't exist\n",
    "    if not os.path.exists(file_path):\n",
    "        workbook = Workbook()\n",
    "        sheet = workbook.active\n",
    "        sheet.append([\"Email\", \"Affirmation\"])\n",
    "        workbook.save(file_path)\n",
    "\n",
    "    # Add the email and affirmation to the file\n",
    "    workbook = load_workbook(file_path)\n",
    "    sheet = workbook.active\n",
    "    sheet.append([email, affirmation])\n",
    "    workbook.save(file_path)\n",
    "    print(f\"Your affirmation has been saved and will be sent to {email} tomorrow morning.\")"
   ]
  },
  {
   "cell_type": "code",
   "execution_count": null,
   "metadata": {
    "id": "9K6btiJyBCzW"
   },
   "outputs": [],
   "source": [
    "# Step 11: Send Affirmation Email\n",
    "def send_email(email, affirmation):\n",
    "    sender_email = \"youremail@gmail.com\"  # Replace with your email address\n",
    "    sender_password = \"#16digitapppw\"  # Replace with your Gmail app password\n",
    "    subject = \"Your Morning Affirmation 🌞\"\n",
    "    body = f\"Good morning!\\n\\nHere’s an affirmation for you today:\\n\\n{affirmation}\\n\\nHave a wonderful day!\"\n",
    "\n",
    "    msg = MIMEText(body, \"plain\", \"utf-8\")\n",
    "    msg['Subject'] = subject\n",
    "    msg['From'] = sender_email\n",
    "    msg['To'] = email\n",
    "\n",
    "    try:\n",
    "        with smtplib.SMTP('smtp.gmail.com', 587) as server:\n",
    "            server.starttls()\n",
    "            server.login(sender_email, sender_password)\n",
    "            server.sendmail(sender_email, email, msg.as_string())\n",
    "            print(f\"Affirmation sent to {email}\")\n",
    "    except Exception as e:\n",
    "        print(\"Error sending email:\", e)"
   ]
  },
  {
   "cell_type": "code",
   "execution_count": null,
   "metadata": {
    "colab": {
     "base_uri": "https://localhost:8080/"
    },
    "id": "g1CbN3vKBIYL",
    "outputId": "c8bfca08-c7a9-45a0-e9ec-d8fdd98ee1ed"
   },
   "outputs": [],
   "source": [
    " #Step 12: Schedule Email Sending\n",
    "def send_scheduled_emails():\n",
    "    file_path = 'user_affirmations.xlsx'\n",
    "\n",
    "    if not os.path.exists(file_path):\n",
    "            print(\"No emails to send.\")\n",
    "            return\n",
    "\n",
    "# Create a new Excel file with headers\n",
    "    workbook = Workbook()\n",
    "    sheet = workbook.active\n",
    "    sheet.append([\"Email\", \"Affirmation\"])  # Add column headers\n",
    "    workbook.save(file_path)\n",
    "    st.write(\"Created a new user_affirmations.xlsx file.\")\n",
    "\n",
    "    for row in sheet.iter_rows(min_row=2, values_only=True):\n",
    "        email, affirmation = row\n",
    "        send_email(email, affirmation)\n",
    "\n",
    "    # Clear the file after sending all emails\n",
    "    sheet.delete_rows(2, sheet.max_row)\n",
    "    workbook.save(file_path)\n",
    "\n",
    "# Schedule the email sending at 7 AM every day\n",
    "schedule.every().day.at(\"10:53\").do(send_scheduled_emails)"
   ]
  },
  {
   "cell_type": "code",
   "execution_count": null,
   "metadata": {
    "colab": {
     "base_uri": "https://localhost:8080/"
    },
    "id": "IV02CKgmBQlf",
    "outputId": "eadf573e-0787-4465-be92-8ac1661fef32"
   },
   "outputs": [],
   "source": [
    "# Step 13: Interactive Input-Output\n",
    "\n",
    "while True:\n",
    "    user_input = input(\"How are you feeling today? Describe your mood: \")\n",
    "    email = input(\"Please enter your email address: \")\n",
    "\n",
    "    mood_analysis = analyze_mood(user_input)\n",
    "    print(\"\\nMood Analysis:\")\n",
    "    for mood, prob in mood_analysis.items():\n",
    "        print(f\"{mood}: {prob*100:.2f}%\")\n",
    "\n",
    "    # Analyze mood and generate affirmation\n",
    "    predicted_mood = analyze_mood(user_input)\n",
    "    affirmation = generate_affirmation(predicted_mood)\n",
    "\n",
    "    # Display affirmation immediately\n",
    "    print(\"\\nHere's an affirmation for you:\")\n",
    "    print(affirmation)\n",
    "\n",
    "    # Save email and affirmation for later sending\n",
    "    save_email_and_affirmation(email, affirmation)\n",
    "\n",
    "    # Check if the user wants to continue\n",
    "    cont = input(\"Do you want to input another email? (yes/no): \").lower()\n",
    "    if cont != 'yes':\n",
    "        break\n",
    "\n",
    "# Run the scheduler (in a long-running process)\n",
    "while True:\n",
    "    schedule.run_pending()\n",
    "    time.sleep(60)"
   ]
  },
  {
   "cell_type": "code",
   "execution_count": null,
   "metadata": {},
   "outputs": [],
   "source": []
  },
  {
   "cell_type": "code",
   "execution_count": null,
   "metadata": {},
   "outputs": [],
   "source": []
  },
  {
   "cell_type": "code",
   "execution_count": null,
   "metadata": {},
   "outputs": [],
   "source": []
  }
 ],
 "metadata": {
  "accelerator": "GPU",
  "colab": {
   "gpuType": "T4",
   "provenance": []
  },
  "kernelspec": {
   "display_name": "Python 3 (ipykernel)",
   "language": "python",
   "name": "python3"
  },
  "language_info": {
   "codemirror_mode": {
    "name": "ipython",
    "version": 3
   },
   "file_extension": ".py",
   "mimetype": "text/x-python",
   "name": "python",
   "nbconvert_exporter": "python",
   "pygments_lexer": "ipython3",
   "version": "3.12.7"
  }
 },
 "nbformat": 4,
 "nbformat_minor": 4
}
